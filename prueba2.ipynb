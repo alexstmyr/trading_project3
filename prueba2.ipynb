{
 "cells": [
  {
   "cell_type": "code",
   "execution_count": 1,
   "metadata": {},
   "outputs": [
    {
     "name": "stderr",
     "output_type": "stream",
     "text": [
      "c:\\Users\\inigo\\AppData\\Local\\Programs\\Python\\Python312\\Lib\\site-packages\\tqdm\\auto.py:21: TqdmWarning: IProgress not found. Please update jupyter and ipywidgets. See https://ipywidgets.readthedocs.io/en/stable/user_install.html\n",
      "  from .autonotebook import tqdm as notebook_tqdm\n"
     ]
    },
    {
     "data": {
      "text/html": [
       "<div>\n",
       "<style scoped>\n",
       "    .dataframe tbody tr th:only-of-type {\n",
       "        vertical-align: middle;\n",
       "    }\n",
       "\n",
       "    .dataframe tbody tr th {\n",
       "        vertical-align: top;\n",
       "    }\n",
       "\n",
       "    .dataframe thead th {\n",
       "        text-align: right;\n",
       "    }\n",
       "</style>\n",
       "<table border=\"1\" class=\"dataframe\">\n",
       "  <thead>\n",
       "    <tr style=\"text-align: right;\">\n",
       "      <th></th>\n",
       "      <th>Open</th>\n",
       "      <th>High</th>\n",
       "      <th>Low</th>\n",
       "      <th>Close</th>\n",
       "    </tr>\n",
       "  </thead>\n",
       "  <tbody>\n",
       "    <tr>\n",
       "      <th>0</th>\n",
       "      <td>133.570007</td>\n",
       "      <td>133.611602</td>\n",
       "      <td>132.389999</td>\n",
       "      <td>132.809997</td>\n",
       "    </tr>\n",
       "    <tr>\n",
       "      <th>1</th>\n",
       "      <td>132.750000</td>\n",
       "      <td>132.750000</td>\n",
       "      <td>131.809997</td>\n",
       "      <td>131.889999</td>\n",
       "    </tr>\n",
       "    <tr>\n",
       "      <th>2</th>\n",
       "      <td>131.500000</td>\n",
       "      <td>132.339996</td>\n",
       "      <td>131.500000</td>\n",
       "      <td>132.059997</td>\n",
       "    </tr>\n",
       "    <tr>\n",
       "      <th>3</th>\n",
       "      <td>132.000000</td>\n",
       "      <td>132.250000</td>\n",
       "      <td>131.899993</td>\n",
       "      <td>132.250000</td>\n",
       "    </tr>\n",
       "    <tr>\n",
       "      <th>4</th>\n",
       "      <td>132.000000</td>\n",
       "      <td>132.018096</td>\n",
       "      <td>131.520004</td>\n",
       "      <td>131.589996</td>\n",
       "    </tr>\n",
       "  </tbody>\n",
       "</table>\n",
       "</div>"
      ],
      "text/plain": [
       "         Open        High         Low       Close\n",
       "0  133.570007  133.611602  132.389999  132.809997\n",
       "1  132.750000  132.750000  131.809997  131.889999\n",
       "2  131.500000  132.339996  131.500000  132.059997\n",
       "3  132.000000  132.250000  131.899993  132.250000\n",
       "4  132.000000  132.018096  131.520004  131.589996"
      ]
     },
     "execution_count": 1,
     "metadata": {},
     "output_type": "execute_result"
    }
   ],
   "source": [
    "import pandas as pd\n",
    "import ta \n",
    "from sklearn.model_selection import train_test_split\n",
    "from sklearn.preprocessing import StandardScaler\n",
    "from sklearn.svm import SVC\n",
    "import optuna\n",
    "from sklearn.metrics import confusion_matrix\n",
    "from sklearn.metrics import f1_score\n",
    "\n",
    "dataset = pd.read_csv(\"aapl_5m_train.csv\")\n",
    "dataset = dataset.drop(columns=['Volume', \"Gmtoffset\", \"Timestamp\", \"Unnamed: 0\", \"Datetime\"])\n",
    "dataset.head()"
   ]
  },
  {
   "cell_type": "code",
   "execution_count": 4,
   "metadata": {},
   "outputs": [],
   "source": [
    "def func_objective(trial, df):\n",
    "\n",
    "    dataset = df.copy()\n",
    "\n",
    "    rsi_window = trial.suggest_int(\"rsi_window\", 5, 20)\n",
    "    ultimate_window1 = trial.suggest_int(\"ultimate_window1\", 1, 10)\n",
    "    ultimate_window2 = trial.suggest_int(\"ultimate_window2\", 10, 20)\n",
    "    ultimate_window3 = trial.suggest_int(\"ultimate_window3\", 20, 30)\n",
    "    \n",
    "    williams_lbp = trial.suggest_int(\"williams_lbp\", 10, 20)\n",
    "\n",
    "    dataset[\"RSI\"] = ta.momentum.RSIIndicator(dataset.Close, window=rsi_window).rsi()\n",
    "    \n",
    "    dataset[\"ultimate\"] = ta.momentum.UltimateOscillator(\n",
    "        high=dataset['High'], low=dataset['Low'], close=dataset['Close'],\n",
    "        window1=ultimate_window1, window2=ultimate_window2, window3=ultimate_window3\n",
    "    ).ultimate_oscillator()\n",
    "    \n",
    "    dataset['Williams'] = ta.momentum.WilliamsRIndicator(\n",
    "        high=dataset['High'], low=dataset['Low'], close=dataset['Close'], lbp=williams_lbp\n",
    "    ).williams_r()\n",
    "\n",
    "    # Retorno futuro a 2 horas\n",
    "    dataset['future_return'] = dataset['Close'].shift(-24) / dataset['Close'] - 1\n",
    "\n",
    "    buy_threshold = 0.015\n",
    "    sell_threshold = -0.015\n",
    "\n",
    "    def generate_signal(x):\n",
    "        if x > buy_threshold:\n",
    "            return 'BUY'\n",
    "        elif x < sell_threshold:\n",
    "            return 'SELL'\n",
    "        else:\n",
    "            return 'WAIT'\n",
    "\n",
    "    dataset['signal'] = dataset['future_return'].apply(generate_signal)\n",
    "    \n",
    "    dataset = dataset.dropna()\n",
    "\n",
    "    X = dataset.drop(\"signal\", axis=1)\n",
    "    y = dataset[[\"signal\"]]\n",
    "    index = dataset.index\n",
    "\n",
    "    X_train, X_test, y_train, y_test, idx_train, idx_test = train_test_split(\n",
    "        X, y, index, test_size=0.2, shuffle=False\n",
    "    )\n",
    "    \n",
    "    scaler = StandardScaler()\n",
    "    X_train = scaler.fit_transform(X_train)\n",
    "    X_test = scaler.transform(X_test)\n",
    "    \n",
    "    C = trial.suggest_float(\"C\", 0.01, 100, log=True)\n",
    "    \n",
    "    svm = SVC(kernel=\"rbf\", C=C, gamma='scale', class_weight='balanced', max_iter=10_000)\n",
    "    svm.fit(X_train, y_train)\n",
    "    \n",
    "    ypred = svm.predict(X_test)\n",
    "    \n",
    "    f1_macro = f1_score(y_test, ypred, average='macro')\n",
    "    \n",
    "    return f1_macro\n",
    "    \n",
    "    "
   ]
  },
  {
   "cell_type": "code",
   "execution_count": 5,
   "metadata": {},
   "outputs": [
    {
     "name": "stderr",
     "output_type": "stream",
     "text": [
      "[I 2025-03-25 22:29:16,588] A new study created in memory with name: no-name-5e477e2a-1099-4717-999f-de5e2ead81dd\n",
      "c:\\Users\\inigo\\AppData\\Local\\Programs\\Python\\Python312\\Lib\\site-packages\\sklearn\\utils\\validation.py:1408: DataConversionWarning: A column-vector y was passed when a 1d array was expected. Please change the shape of y to (n_samples, ), for example using ravel().\n",
      "  y = column_or_1d(y, warn=True)\n",
      "[I 2025-03-25 22:29:27,024] Trial 0 finished with value: 0.8478364767965928 and parameters: {'rsi_window': 13, 'ultimate_window1': 4, 'ultimate_window2': 19, 'ultimate_window3': 21, 'williams_lbp': 12, 'C': 0.0256509155894321}. Best is trial 0 with value: 0.8478364767965928.\n",
      "c:\\Users\\inigo\\AppData\\Local\\Programs\\Python\\Python312\\Lib\\site-packages\\sklearn\\utils\\validation.py:1408: DataConversionWarning: A column-vector y was passed when a 1d array was expected. Please change the shape of y to (n_samples, ), for example using ravel().\n",
      "  y = column_or_1d(y, warn=True)\n",
      "[I 2025-03-25 22:29:28,637] Trial 1 finished with value: 0.9651417023899477 and parameters: {'rsi_window': 14, 'ultimate_window1': 3, 'ultimate_window2': 19, 'ultimate_window3': 25, 'williams_lbp': 18, 'C': 3.9269902928454545}. Best is trial 1 with value: 0.9651417023899477.\n",
      "c:\\Users\\inigo\\AppData\\Local\\Programs\\Python\\Python312\\Lib\\site-packages\\sklearn\\utils\\validation.py:1408: DataConversionWarning: A column-vector y was passed when a 1d array was expected. Please change the shape of y to (n_samples, ), for example using ravel().\n",
      "  y = column_or_1d(y, warn=True)\n",
      "[I 2025-03-25 22:29:34,189] Trial 2 finished with value: 0.8932748089830622 and parameters: {'rsi_window': 12, 'ultimate_window1': 4, 'ultimate_window2': 14, 'ultimate_window3': 27, 'williams_lbp': 17, 'C': 0.11165669682391491}. Best is trial 1 with value: 0.9651417023899477.\n",
      "c:\\Users\\inigo\\AppData\\Local\\Programs\\Python\\Python312\\Lib\\site-packages\\sklearn\\utils\\validation.py:1408: DataConversionWarning: A column-vector y was passed when a 1d array was expected. Please change the shape of y to (n_samples, ), for example using ravel().\n",
      "  y = column_or_1d(y, warn=True)\n",
      "[I 2025-03-25 22:29:36,562] Trial 3 finished with value: 0.9462382125339367 and parameters: {'rsi_window': 12, 'ultimate_window1': 9, 'ultimate_window2': 10, 'ultimate_window3': 21, 'williams_lbp': 12, 'C': 1.0789242341916307}. Best is trial 1 with value: 0.9651417023899477.\n",
      "c:\\Users\\inigo\\AppData\\Local\\Programs\\Python\\Python312\\Lib\\site-packages\\sklearn\\utils\\validation.py:1408: DataConversionWarning: A column-vector y was passed when a 1d array was expected. Please change the shape of y to (n_samples, ), for example using ravel().\n",
      "  y = column_or_1d(y, warn=True)\n",
      "[I 2025-03-25 22:29:40,233] Trial 4 finished with value: 0.9235515958605672 and parameters: {'rsi_window': 7, 'ultimate_window1': 1, 'ultimate_window2': 17, 'ultimate_window3': 22, 'williams_lbp': 17, 'C': 0.307420932854526}. Best is trial 1 with value: 0.9651417023899477.\n",
      "c:\\Users\\inigo\\AppData\\Local\\Programs\\Python\\Python312\\Lib\\site-packages\\sklearn\\utils\\validation.py:1408: DataConversionWarning: A column-vector y was passed when a 1d array was expected. Please change the shape of y to (n_samples, ), for example using ravel().\n",
      "  y = column_or_1d(y, warn=True)\n",
      "[I 2025-03-25 22:29:48,133] Trial 5 finished with value: 0.8684474778946999 and parameters: {'rsi_window': 14, 'ultimate_window1': 6, 'ultimate_window2': 20, 'ultimate_window3': 20, 'williams_lbp': 11, 'C': 0.04931330458617161}. Best is trial 1 with value: 0.9651417023899477.\n",
      "c:\\Users\\inigo\\AppData\\Local\\Programs\\Python\\Python312\\Lib\\site-packages\\sklearn\\utils\\validation.py:1408: DataConversionWarning: A column-vector y was passed when a 1d array was expected. Please change the shape of y to (n_samples, ), for example using ravel().\n",
      "  y = column_or_1d(y, warn=True)\n",
      "[I 2025-03-25 22:29:53,878] Trial 6 finished with value: 0.8926292536418555 and parameters: {'rsi_window': 15, 'ultimate_window1': 3, 'ultimate_window2': 20, 'ultimate_window3': 29, 'williams_lbp': 10, 'C': 0.1041939166579705}. Best is trial 1 with value: 0.9651417023899477.\n",
      "c:\\Users\\inigo\\AppData\\Local\\Programs\\Python\\Python312\\Lib\\site-packages\\sklearn\\utils\\validation.py:1408: DataConversionWarning: A column-vector y was passed when a 1d array was expected. Please change the shape of y to (n_samples, ), for example using ravel().\n",
      "  y = column_or_1d(y, warn=True)\n",
      "[I 2025-03-25 22:30:01,257] Trial 7 finished with value: 0.8705197096611451 and parameters: {'rsi_window': 6, 'ultimate_window1': 8, 'ultimate_window2': 20, 'ultimate_window3': 30, 'williams_lbp': 18, 'C': 0.05451529328278473}. Best is trial 1 with value: 0.9651417023899477.\n",
      "c:\\Users\\inigo\\AppData\\Local\\Programs\\Python\\Python312\\Lib\\site-packages\\sklearn\\utils\\validation.py:1408: DataConversionWarning: A column-vector y was passed when a 1d array was expected. Please change the shape of y to (n_samples, ), for example using ravel().\n",
      "  y = column_or_1d(y, warn=True)\n",
      "[I 2025-03-25 22:30:04,574] Trial 8 finished with value: 0.9297909505095796 and parameters: {'rsi_window': 14, 'ultimate_window1': 3, 'ultimate_window2': 15, 'ultimate_window3': 22, 'williams_lbp': 18, 'C': 0.4296786379055603}. Best is trial 1 with value: 0.9651417023899477.\n",
      "c:\\Users\\inigo\\AppData\\Local\\Programs\\Python\\Python312\\Lib\\site-packages\\sklearn\\utils\\validation.py:1408: DataConversionWarning: A column-vector y was passed when a 1d array was expected. Please change the shape of y to (n_samples, ), for example using ravel().\n",
      "  y = column_or_1d(y, warn=True)\n",
      "[I 2025-03-25 22:30:18,171] Trial 9 finished with value: 0.8316184302179845 and parameters: {'rsi_window': 13, 'ultimate_window1': 10, 'ultimate_window2': 12, 'ultimate_window3': 22, 'williams_lbp': 10, 'C': 0.015028584555843182}. Best is trial 1 with value: 0.9651417023899477.\n"
     ]
    }
   ],
   "source": [
    "study = optuna.create_study(direction=\"maximize\")\n",
    "study.optimize(lambda t: func_objective(t, dataset), n_trials=10)\n"
   ]
  },
  {
   "cell_type": "code",
   "execution_count": 6,
   "metadata": {},
   "outputs": [
    {
     "data": {
      "text/plain": [
       "{'rsi_window': 14,\n",
       " 'ultimate_window1': 3,\n",
       " 'ultimate_window2': 19,\n",
       " 'ultimate_window3': 25,\n",
       " 'williams_lbp': 18,\n",
       " 'C': 3.9269902928454545}"
      ]
     },
     "execution_count": 6,
     "metadata": {},
     "output_type": "execute_result"
    }
   ],
   "source": [
    "study.best_params"
   ]
  },
  {
   "cell_type": "code",
   "execution_count": 7,
   "metadata": {},
   "outputs": [
    {
     "data": {
      "text/plain": [
       "0.9651417023899477"
      ]
     },
     "execution_count": 7,
     "metadata": {},
     "output_type": "execute_result"
    }
   ],
   "source": [
    "study.best_value"
   ]
  },
  {
   "cell_type": "code",
   "execution_count": null,
   "metadata": {},
   "outputs": [],
   "source": []
  }
 ],
 "metadata": {
  "kernelspec": {
   "display_name": "Python 3",
   "language": "python",
   "name": "python3"
  },
  "language_info": {
   "codemirror_mode": {
    "name": "ipython",
    "version": 3
   },
   "file_extension": ".py",
   "mimetype": "text/x-python",
   "name": "python",
   "nbconvert_exporter": "python",
   "pygments_lexer": "ipython3",
   "version": "3.12.8"
  }
 },
 "nbformat": 4,
 "nbformat_minor": 2
}
